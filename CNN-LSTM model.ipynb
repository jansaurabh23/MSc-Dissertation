{
  "nbformat": 4,
  "nbformat_minor": 0,
  "metadata": {
    "colab": {
      "name": "Untitled1.ipynb",
      "provenance": [],
      "collapsed_sections": []
    },
    "kernelspec": {
      "name": "python3",
      "display_name": "Python 3"
    }
  },
  "cells": [
    {
      "cell_type": "code",
      "metadata": {
        "id": "u8uXzptqwe5w",
        "colab_type": "code",
        "colab": {}
      },
      "source": [
        "#importing libraries\n",
        "from __future__ import print_function\n",
        "import numpy as np\n",
        "np.random.seed(1337)  # for reproducibility\n",
        "\n",
        "from keras.preprocessing import sequence\n",
        "from keras.models import Sequential\n",
        "from keras.layers import Dense, Dropout, Activation, Lambda\n",
        "from keras.layers import Embedding\n",
        "from keras.layers import Convolution1D,MaxPooling1D, Flatten\n",
        "from keras import backend as K\n",
        "from sklearn.model_selection import train_test_split\n",
        "import pandas as pd\n",
        "from keras.utils.np_utils import to_categorical"
      ],
      "execution_count": null,
      "outputs": []
    },
    {
      "cell_type": "code",
      "metadata": {
        "id": "K_mACUPcwgze",
        "colab_type": "code",
        "colab": {}
      },
      "source": [
        "from sklearn.preprocessing import Normalizer\n",
        "from keras.models import Sequential\n",
        "from keras.layers import Convolution1D, Dense, Dropout, Flatten, MaxPooling1D\n",
        "from keras.utils import np_utils\n",
        "import h5py\n",
        "from keras import callbacks\n",
        "from keras.layers import LSTM, GRU, SimpleRNN\n",
        "from keras.callbacks import CSVLogger\n",
        "from keras.callbacks import ModelCheckpoint, EarlyStopping, ReduceLROnPlateau, CSVLogger\n",
        "from sklearn.metrics import (precision_score, recall_score,f1_score, accuracy_score,mean_squared_error,mean_absolute_error)\n",
        "from sklearn import metrics"
      ],
      "execution_count": null,
      "outputs": []
    },
    {
      "cell_type": "code",
      "metadata": {
        "id": "RHfcD6Xbwk4s",
        "colab_type": "code",
        "colab": {}
      },
      "source": [
        "columns = [\"duration\",\"protocol_type\",\"service\",\"flag\",\"src_bytes\",\"dst_bytes\",\"land\",\"wrong_fragment\",\"urgent\",\"hot\",\"m_failed_logins\",\n",
        "\"logged_in\", \"num_compromised\",\"root_shell\",\"su_attempted\",\"num_root\",\"num_file_creations\",\"num_shells\",\"num_access_files\",\n",
        "\"num_outbound_cmds\",\"is_host_login\",\"is_guest_login\",\"count\",\"srv_count\",\"serror_rate\",\"srv_serror_rate\",\"rerror_rate\",\"srv_rerror_rate\",\n",
        "\"same_srv_rate\",\"diff_srv_rate\",\"srv_diff_host_rate\",\"dst_host_count\",\"dst_host_srv_count\",\"dst_host_same_srv_rate\",\"dst_host_diff_srv_rate\",\n",
        "\"dst_host_same_src_port_rate\", \"dst_host_srv_diff_host_rate\",\"dst_host_serror_rate\",\"dst_host_srv_serror_rate\",\"dst_host_rerror_rate\",\n",
        "\"dst_host_srv_rerror_rate\",\"label\"]"
      ],
      "execution_count": null,
      "outputs": []
    },
    {
      "cell_type": "code",
      "metadata": {
        "id": "3epX61RewnDU",
        "colab_type": "code",
        "colab": {}
      },
      "source": [
        "attacks_type = {\n",
        "'normal': 'normal',\n",
        "'back': 'dos',\n",
        "'buffer_overflow': 'u2r',\n",
        "'ftp_write': 'r2l',\n",
        "'guess_passwd': 'r2l',\n",
        "'imap': 'r2l',\n",
        "'ipsweep': 'probe',\n",
        "'land': 'dos',\n",
        "'loadmodule': 'u2r',\n",
        "'multihop': 'r2l',\n",
        "'neptune': 'dos',\n",
        "'nmap': 'probe',\n",
        "'perl': 'u2r',\n",
        "'phf': 'r2l',\n",
        "'pod': 'dos',\n",
        "'portsweep': 'probe',\n",
        "'rootkit': 'u2r',\n",
        "'satan': 'probe',\n",
        "'smurf': 'dos',\n",
        "'spy': 'r2l',\n",
        "'teardrop': 'dos',\n",
        "'warezclient': 'r2l',\n",
        "'warezmaster': 'r2l',\n",
        "    }"
      ],
      "execution_count": null,
      "outputs": []
    },
    {
      "cell_type": "code",
      "metadata": {
        "id": "G1frXxNOwp2U",
        "colab_type": "code",
        "colab": {}
      },
      "source": [
        "df = pd.read_csv('/content/kddcup.data_10_percent_corrected.csv',names=columns)"
      ],
      "execution_count": null,
      "outputs": []
    },
    {
      "cell_type": "code",
      "metadata": {
        "id": "aghlyU3hwsyd",
        "colab_type": "code",
        "colab": {}
      },
      "source": [
        "df['label'] = df.label.apply(lambda r: attacks_type[r[:-1]])"
      ],
      "execution_count": null,
      "outputs": []
    },
    {
      "cell_type": "code",
      "metadata": {
        "id": "kBT22Lcfwu__",
        "colab_type": "code",
        "colab": {}
      },
      "source": [
        "#data transformation\n",
        "def labels(row):\n",
        "    attacks_type = row['label']\n",
        "    if(attacks_type == 'normal'):\n",
        "        return 0\n",
        "    else:\n",
        "        return 1"
      ],
      "execution_count": null,
      "outputs": []
    },
    {
      "cell_type": "code",
      "metadata": {
        "id": "7CksWYrmwxjD",
        "colab_type": "code",
        "colab": {}
      },
      "source": [
        "def createLabels(df):\n",
        "  df['Outcome']= df.apply (lambda row: labels(row), axis=1)\n",
        "  return df"
      ],
      "execution_count": null,
      "outputs": []
    },
    {
      "cell_type": "code",
      "metadata": {
        "id": "sxsJwwAMwz6K",
        "colab_type": "code",
        "colab": {}
      },
      "source": [
        "df = createLabels(df)"
      ],
      "execution_count": null,
      "outputs": []
    },
    {
      "cell_type": "code",
      "metadata": {
        "id": "NC8V_5qOw3nE",
        "colab_type": "code",
        "colab": {}
      },
      "source": [
        "df['Outcome'].unique()"
      ],
      "execution_count": null,
      "outputs": []
    },
    {
      "cell_type": "code",
      "metadata": {
        "id": "3Wp3Jxh6w5r-",
        "colab_type": "code",
        "colab": {}
      },
      "source": [
        "df.drop(['label'],axis = 1,inplace = True)"
      ],
      "execution_count": null,
      "outputs": []
    },
    {
      "cell_type": "code",
      "metadata": {
        "id": "rkvahOX_w9yi",
        "colab_type": "code",
        "colab": {}
      },
      "source": [
        "df['Outcome'].hist()"
      ],
      "execution_count": null,
      "outputs": []
    },
    {
      "cell_type": "code",
      "metadata": {
        "id": "4tcLarvIw_yi",
        "colab_type": "code",
        "colab": {}
      },
      "source": [
        "from sklearn.feature_selection import SelectKBest"
      ],
      "execution_count": null,
      "outputs": []
    },
    {
      "cell_type": "code",
      "metadata": {
        "id": "AuGvevw6xCvK",
        "colab_type": "code",
        "colab": {}
      },
      "source": [
        "X = df.iloc[:,1:41]\n",
        "Y = df.iloc[:,-1]"
      ],
      "execution_count": null,
      "outputs": []
    },
    {
      "cell_type": "code",
      "metadata": {
        "id": "EKw770CdxJlv",
        "colab_type": "code",
        "colab": {}
      },
      "source": [
        "from sklearn import preprocessing"
      ],
      "execution_count": null,
      "outputs": []
    },
    {
      "cell_type": "code",
      "metadata": {
        "id": "CO-wBr4dxLq3",
        "colab_type": "code",
        "colab": {}
      },
      "source": [
        "for c in X.columns:\n",
        "     if str(X[c].dtype) == 'object':\n",
        "            print(c, \"::\", X[c].dtype, X[c].value_counts())\n",
        "            #print(c, \"::\", T[c].dtype, T[c].value_counts())\n",
        "            print(\"=======\")\n",
        "\n",
        "le_X = preprocessing.LabelEncoder()\n",
        "le_y = preprocessing.LabelEncoder()\n",
        "\n",
        "for c in X.columns:\n",
        "    if str(X[c].dtype) == 'object': \n",
        "        X[c] = le_X.fit_transform(X[c])\n",
        "    #if str(T[c].dtype) == 'object':\n",
        "        #T[c] = le_X.fit_transform(T[c])\n",
        "\n",
        "Y = le_y.fit_transform(Y)\n",
        "#C = le_y.fit_transform(C)"
      ],
      "execution_count": null,
      "outputs": []
    },
    {
      "cell_type": "code",
      "metadata": {
        "id": "KW9mwNMCxNkH",
        "colab_type": "code",
        "colab": {}
      },
      "source": [
        "scaler = Normalizer().fit(X)\n",
        "X = scaler.transform(X)\n",
        "np.set_printoptions(precision=3)\n"
      ],
      "execution_count": null,
      "outputs": []
    },
    {
      "cell_type": "code",
      "metadata": {
        "id": "kw3z54oRxP4m",
        "colab_type": "code",
        "colab": {}
      },
      "source": [
        "from sklearn.model_selection import train_test_split"
      ],
      "execution_count": null,
      "outputs": []
    },
    {
      "cell_type": "code",
      "metadata": {
        "id": "pLF6CihDxSl8",
        "colab_type": "code",
        "colab": {}
      },
      "source": [
        "X_train1,X_test1,Y_train1,Y_test1 = train_test_split(X,Y, test_size = 0.3 , random_state = 101)"
      ],
      "execution_count": null,
      "outputs": []
    },
    {
      "cell_type": "code",
      "metadata": {
        "id": "nijLcfhpxVTe",
        "colab_type": "code",
        "colab": {}
      },
      "source": [
        "type(X_train1)"
      ],
      "execution_count": null,
      "outputs": []
    },
    {
      "cell_type": "code",
      "metadata": {
        "id": "PJlCpfvbxaW3",
        "colab_type": "code",
        "colab": {}
      },
      "source": [
        "# reshape input to be [`asamples, time steps, features]\n",
        "X_train1 = X_train1.reshape(-1, 1, 40)\n",
        "X_test1  = X_test1.reshape(-1, 1, 40)"
      ],
      "execution_count": null,
      "outputs": []
    },
    {
      "cell_type": "code",
      "metadata": {
        "id": "X0XH-Sd9xcmZ",
        "colab_type": "code",
        "colab": {}
      },
      "source": [
        "from keras.regularizers import l1,l2\n",
        "from keras.layers import Bidirectional\n"
      ],
      "execution_count": null,
      "outputs": []
    },
    {
      "cell_type": "code",
      "metadata": {
        "id": "1h29fPJLxigb",
        "colab_type": "code",
        "colab": {}
      },
      "source": [
        "lstm_output_size = 70\n",
        "\n",
        "cnn = Sequential()\n",
        "cnn.add(Convolution1D(128, 2, padding=\"same\",activation=\"relu\",input_shape=(1,40)))\n",
        "cnn.add(Convolution1D(64, 2, padding=\"same\", activation=\"relu\"))\n",
        "cnn.add(MaxPooling1D(pool_size=(1)))\n",
        "cnn.add(LSTM(lstm_output_size))\n",
        "cnn.add(Dropout(0.1))\n",
        "cnn.add(Dense(1, activation=\"sigmoid\"))"
      ],
      "execution_count": null,
      "outputs": []
    },
    {
      "cell_type": "code",
      "metadata": {
        "id": "iMd4phI9xl3D",
        "colab_type": "code",
        "colab": {}
      },
      "source": [
        "from keras import backend as K\n",
        "import keras\n",
        "optimizer = keras.optimizers.Adam(lr=0.001)\n",
        "cnn.compile(loss='binary_crossentropy',optimizer=optimizer,metrics=['accuracy'])\n",
        "es = EarlyStopping(monitor='val_loss', mode='min', verbose=1, patience=50)\n",
        "checkpointer = callbacks.ModelCheckpoint(filepath=\"kddresults/lstm2layer/checkpoint-{epoch:02d}.hdf5\", verbose=1, save_best_only=True, monitor='val_acc',mode='max')\n",
        "csv_logger = CSVLogger('training_set_iranalysis1.csv',separator=',', append=False)\n",
        "history = cnn.fit(X_train1, Y_train1, batch_size=lstm_output_size, epochs=50, validation_data=(X_test1, Y_test1),callbacks=[checkpointer,es])"
      ],
      "execution_count": null,
      "outputs": []
    },
    {
      "cell_type": "code",
      "metadata": {
        "id": "AEq3unR4xnAK",
        "colab_type": "code",
        "colab": {}
      },
      "source": [
        "loss, accuracy = cnn.evaluate(X_test1, Y_test1)\n",
        "print(\"\\nLoss: %.2f, Accuracy: %.2f%%\" % (loss, accuracy*100))\n",
        "y_pred1 = cnn.predict_classes(X_test1)"
      ],
      "execution_count": null,
      "outputs": []
    },
    {
      "cell_type": "code",
      "metadata": {
        "id": "-c_hL_uUxpa3",
        "colab_type": "code",
        "colab": {}
      },
      "source": [
        "accuracy = accuracy_score(Y_test1, y_pred1)\n",
        "recall = recall_score(Y_test1, y_pred1 , average=\"binary\")\n",
        "precision = precision_score(Y_test1, y_pred1 , average=\"binary\")\n",
        "f1 = f1_score(Y_test1, y_pred1, average=\"binary\")\n",
        "\n",
        "print(\"confusion matrix\")\n",
        "print(\"----------------------------------------------\")\n",
        "print(\"accuracy\")\n",
        "print(\"%.6f\" %accuracy)\n",
        "print(\"recall\")\n",
        "print(\"%.6f\" %recall)\n",
        "print(\"precision\")\n",
        "print(\"%.6f\" %precision)\n",
        "print(\"f1score\")\n",
        "print(\"%.6f\" %f1)"
      ],
      "execution_count": null,
      "outputs": []
    },
    {
      "cell_type": "code",
      "metadata": {
        "id": "Impb3UQYxssb",
        "colab_type": "code",
        "colab": {}
      },
      "source": [
        "import matplotlib.pyplot as plt\n",
        "%matplotlib inline\n",
        "\n",
        "loss_train = np.array(history.history['loss'])\n",
        "loss_val = np.array(history.history['val_loss'])\n",
        "\n",
        "epochs = range(0,50)\n",
        "plt.plot(epochs, loss_train, 'g', label='Training loss')\n",
        "plt.plot(epochs, loss_val, 'b', label='Validation Loss')\n",
        "plt.title('Training and Validation Loss')\n",
        "plt.xlabel('Epochs')\n",
        "plt.ylabel('Loss')\n",
        "plt.legend()\n",
        "plt.show()"
      ],
      "execution_count": null,
      "outputs": []
    },
    {
      "cell_type": "code",
      "metadata": {
        "id": "e1qys1_sxvIH",
        "colab_type": "code",
        "colab": {}
      },
      "source": [
        "loss_train = history.history['accuracy']\n",
        "loss_val = history.history['val_accuracy']\n",
        "epochs = range(0,50)\n",
        "plt.plot(epochs, loss_train, 'g', label='Training accuracy')\n",
        "plt.plot(epochs, loss_val, 'b', label='validation accuracy')\n",
        "plt.title('Training and Validation accuracy')\n",
        "plt.xlabel('Epochs')\n",
        "plt.ylabel('Accuracy')\n",
        "plt.legend()\n",
        "plt.show()"
      ],
      "execution_count": null,
      "outputs": []
    },
    {
      "cell_type": "code",
      "metadata": {
        "id": "gguiJw0CxxNe",
        "colab_type": "code",
        "colab": {}
      },
      "source": [
        "from mlxtend.plotting import plot_confusion_matrix\n",
        "from sklearn.metrics import confusion_matrix\n",
        "mat = confusion_matrix(Y_test1,y_pred1)\n",
        "plot_confusion_matrix(conf_mat=mat)"
      ],
      "execution_count": null,
      "outputs": []
    }
  ]
}